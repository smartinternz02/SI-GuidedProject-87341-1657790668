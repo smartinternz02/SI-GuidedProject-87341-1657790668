{
 "cells": [
  {
   "cell_type": "code",
   "execution_count": 20,
   "id": "f75941df",
   "metadata": {},
   "outputs": [],
   "source": [
    "import pandas as pd\n",
    "import numpy as np\n",
    "import os\n",
    "import tensorflow as tf\n",
    "import cv2\n",
    "import matplotlib\n",
    "from tensorflow import keras\n",
    "from keras.layers import Dense, Convolution2D, MaxPooling2D, Flatten, Dropout, BatchNormalization\n",
    "from tensorflow.keras.models import Sequential, Model\n",
    "from matplotlib import pyplot as plt\n",
    "import matplotlib.image as mpimg\n",
    "%matplotlib inline"
   ]
  },
  {
   "cell_type": "code",
   "execution_count": 21,
   "id": "975317fd",
   "metadata": {},
   "outputs": [],
   "source": [
    "import PIL\n",
    "from PIL import Image\n",
    "from skimage import io"
   ]
  },
  {
   "cell_type": "code",
   "execution_count": 22,
   "id": "0c8dd85c",
   "metadata": {},
   "outputs": [],
   "source": [
    "from keras.preprocessing.image import ImageDataGenerator\n",
    "train_datagen = ImageDataGenerator(rescale=1./255,shear_range=0.2,zoom_range=0.2,horizontal_flip=True)\n",
    "test_datagen = ImageDataGenerator(rescale=1./255)"
   ]
  },
  {
   "cell_type": "code",
   "execution_count": 23,
   "id": "15c1f206",
   "metadata": {},
   "outputs": [
    {
     "name": "stdout",
     "output_type": "stream",
     "text": [
      "Found 11386 images belonging to 9 classes.\n",
      "Found 3416 images belonging to 9 classes.\n"
     ]
    }
   ],
   "source": [
    "x_train=train_datagen.flow_from_directory(r\"C:\\Users\\lenovo\\Desktop\\build-a-thon-project\\Dataset Plant Disease\\Veg-dataset\\Veg-dataset\\train_set\",target_size=(128,128), batch_size=32, class_mode='categorical')\n",
    "x_test=test_datagen.flow_from_directory(r\"C:\\Users\\lenovo\\Desktop\\build-a-thon-project\\Dataset Plant Disease\\Veg-dataset\\Veg-dataset\\test_set\",target_size=(128,128), batch_size=32, class_mode='categorical')"
   ]
  },
  {
   "cell_type": "code",
   "execution_count": 24,
   "id": "5f7e4d5a",
   "metadata": {},
   "outputs": [],
   "source": [
    "model=Sequential()"
   ]
  },
  {
   "cell_type": "code",
   "execution_count": 25,
   "id": "6adf3c55",
   "metadata": {},
   "outputs": [],
   "source": [
    "model.add(Convolution2D(64,(3,3), input_shape=(128,128,3),activation='relu'))\n",
    "model.add(MaxPooling2D(pool_size=(2,2)))\n",
    "model.add(Convolution2D(32,(3,3),activation='relu'))\n",
    "model.add(MaxPooling2D(pool_size=(2,2)))\n",
    "\n",
    "model.add(Flatten())     "
   ]
  },
  {
   "cell_type": "code",
   "execution_count": 26,
   "id": "6d322dec",
   "metadata": {},
   "outputs": [],
   "source": [
    "model.add(Dense(units=120,activation='relu'))\n",
    "\n",
    "model.add(Dense(units=90,activation='relu'))\n",
    "model.add(Dense(units=60,activation='relu'))\n",
    "model.add(Dense(units=9,activation='softmax'))"
   ]
  },
  {
   "cell_type": "code",
   "execution_count": 27,
   "id": "f1d2d0fe",
   "metadata": {},
   "outputs": [
    {
     "name": "stdout",
     "output_type": "stream",
     "text": [
      "Model: \"sequential_2\"\n",
      "_________________________________________________________________\n",
      " Layer (type)                Output Shape              Param #   \n",
      "=================================================================\n",
      " conv2d_3 (Conv2D)           (None, 126, 126, 64)      1792      \n",
      "                                                                 \n",
      " max_pooling2d_3 (MaxPooling  (None, 63, 63, 64)       0         \n",
      " 2D)                                                             \n",
      "                                                                 \n",
      " conv2d_4 (Conv2D)           (None, 61, 61, 32)        18464     \n",
      "                                                                 \n",
      " max_pooling2d_4 (MaxPooling  (None, 30, 30, 32)       0         \n",
      " 2D)                                                             \n",
      "                                                                 \n",
      " flatten_2 (Flatten)         (None, 28800)             0         \n",
      "                                                                 \n",
      " dense_7 (Dense)             (None, 120)               3456120   \n",
      "                                                                 \n",
      " dense_8 (Dense)             (None, 90)                10890     \n",
      "                                                                 \n",
      " dense_9 (Dense)             (None, 60)                5460      \n",
      "                                                                 \n",
      " dense_10 (Dense)            (None, 9)                 549       \n",
      "                                                                 \n",
      "=================================================================\n",
      "Total params: 3,493,275\n",
      "Trainable params: 3,493,275\n",
      "Non-trainable params: 0\n",
      "_________________________________________________________________\n"
     ]
    }
   ],
   "source": [
    "model.summary()"
   ]
  },
  {
   "cell_type": "code",
   "execution_count": 28,
   "id": "a1cff105",
   "metadata": {},
   "outputs": [
    {
     "name": "stderr",
     "output_type": "stream",
     "text": [
      "C:\\Users\\lenovo\\AppData\\Local\\Temp\\ipykernel_12560\\2750977226.py:2: UserWarning: `Model.fit_generator` is deprecated and will be removed in a future version. Please use `Model.fit`, which supports generators.\n",
      "  model.fit_generator(x_train, steps_per_epoch=168,epochs=15,validation_data=x_test,validation_steps=52)\n"
     ]
    },
    {
     "name": "stdout",
     "output_type": "stream",
     "text": [
      "Epoch 1/15\n",
      "168/168 [==============================] - 365s 2s/step - loss: 1.7768 - accuracy: 0.3480 - val_loss: 1.2660 - val_accuracy: 0.5373\n",
      "Epoch 2/15\n",
      "168/168 [==============================] - 333s 2s/step - loss: 1.1022 - accuracy: 0.6064 - val_loss: 1.1796 - val_accuracy: 0.5919\n",
      "Epoch 3/15\n",
      "168/168 [==============================] - 372s 2s/step - loss: 0.8248 - accuracy: 0.7015 - val_loss: 0.8029 - val_accuracy: 0.6953\n",
      "Epoch 4/15\n",
      "168/168 [==============================] - 364s 2s/step - loss: 0.6448 - accuracy: 0.7724 - val_loss: 0.4778 - val_accuracy: 0.8287\n",
      "Epoch 5/15\n",
      "168/168 [==============================] - 358s 2s/step - loss: 0.5654 - accuracy: 0.8013 - val_loss: 0.6174 - val_accuracy: 0.7650\n",
      "Epoch 6/15\n",
      "168/168 [==============================] - 375s 2s/step - loss: 0.5147 - accuracy: 0.8168 - val_loss: 0.5133 - val_accuracy: 0.8041\n",
      "Epoch 7/15\n",
      "168/168 [==============================] - 374s 2s/step - loss: 0.4379 - accuracy: 0.8467 - val_loss: 0.3611 - val_accuracy: 0.8708\n",
      "Epoch 8/15\n",
      "168/168 [==============================] - 360s 2s/step - loss: 0.3899 - accuracy: 0.8680 - val_loss: 0.3345 - val_accuracy: 0.8888\n",
      "Epoch 9/15\n",
      "168/168 [==============================] - 7984s 48s/step - loss: 0.3485 - accuracy: 0.8743 - val_loss: 0.3611 - val_accuracy: 0.8732\n",
      "Epoch 10/15\n",
      "168/168 [==============================] - 342s 2s/step - loss: 0.3700 - accuracy: 0.8726 - val_loss: 0.3628 - val_accuracy: 0.8822\n",
      "Epoch 11/15\n",
      "168/168 [==============================] - 340s 2s/step - loss: 0.2996 - accuracy: 0.8976 - val_loss: 0.2405 - val_accuracy: 0.9141\n",
      "Epoch 12/15\n",
      "168/168 [==============================] - 316s 2s/step - loss: 0.2917 - accuracy: 0.9012 - val_loss: 0.2454 - val_accuracy: 0.9153\n",
      "Epoch 13/15\n",
      "168/168 [==============================] - 312s 2s/step - loss: 0.2999 - accuracy: 0.8905 - val_loss: 0.3906 - val_accuracy: 0.8690\n",
      "Epoch 14/15\n",
      "168/168 [==============================] - 327s 2s/step - loss: 0.2813 - accuracy: 0.9039 - val_loss: 0.1727 - val_accuracy: 0.9411\n",
      "Epoch 15/15\n",
      "168/168 [==============================] - 214s 1s/step - loss: 0.2273 - accuracy: 0.9219 - val_loss: 0.2187 - val_accuracy: 0.9183\n"
     ]
    },
    {
     "data": {
      "text/plain": [
       "<keras.callbacks.History at 0x29c842459a0>"
      ]
     },
     "execution_count": 28,
     "metadata": {},
     "output_type": "execute_result"
    }
   ],
   "source": [
    "model.compile(loss='categorical_crossentropy',optimizer=\"adam\",metrics=[\"accuracy\"])\n",
    "model.fit_generator(x_train, steps_per_epoch=168,epochs=15,validation_data=x_test,validation_steps=52)"
   ]
  },
  {
   "cell_type": "code",
   "execution_count": 29,
   "id": "cebd9b89",
   "metadata": {},
   "outputs": [],
   "source": [
    "model.save(\"vegetable.h5\")"
   ]
  }
 ],
 "metadata": {
  "kernelspec": {
   "display_name": "Python 3 (ipykernel)",
   "language": "python",
   "name": "python3"
  },
  "language_info": {
   "codemirror_mode": {
    "name": "ipython",
    "version": 3
   },
   "file_extension": ".py",
   "mimetype": "text/x-python",
   "name": "python",
   "nbconvert_exporter": "python",
   "pygments_lexer": "ipython3",
   "version": "3.9.12"
  }
 },
 "nbformat": 4,
 "nbformat_minor": 5
}
