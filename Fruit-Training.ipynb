{
 "cells": [
  {
   "cell_type": "code",
   "execution_count": 20,
   "id": "46f4da7d",
   "metadata": {},
   "outputs": [],
   "source": [
    "import pandas as pd\n",
    "import numpy as np\n",
    "import os\n",
    "import tensorflow as tf\n",
    "import cv2\n",
    "import matplotlib\n",
    "from tensorflow import keras\n",
    "from keras.layers import Dense, Convolution2D, MaxPooling2D, Flatten\n",
    "from tensorflow.keras.models import Sequential, Model\n",
    "from matplotlib import pyplot as plt\n",
    "import matplotlib.image as mpimg\n",
    "%matplotlib inline"
   ]
  },
  {
   "cell_type": "code",
   "execution_count": 21,
   "id": "df546768",
   "metadata": {},
   "outputs": [],
   "source": [
    "import PIL\n",
    "from PIL import Image\n",
    "from skimage import io\n"
   ]
  },
  {
   "cell_type": "code",
   "execution_count": 22,
   "id": "0fe7b06d",
   "metadata": {},
   "outputs": [],
   "source": [
    "from keras.preprocessing.image import ImageDataGenerator\n",
    "train_datagen = ImageDataGenerator(rescale=1./255,shear_range=0.2,zoom_range=0.2,horizontal_flip=True)\n",
    "test_datagen = ImageDataGenerator(rescale=1./255)"
   ]
  },
  {
   "cell_type": "code",
   "execution_count": 23,
   "id": "b4590605",
   "metadata": {},
   "outputs": [
    {
     "name": "stdout",
     "output_type": "stream",
     "text": [
      "Found 5384 images belonging to 6 classes.\n",
      "Found 1686 images belonging to 6 classes.\n"
     ]
    }
   ],
   "source": [
    "x_train=train_datagen.flow_from_directory(r\"C:\\Users\\lenovo\\Desktop\\build-a-thon-project\\Dataset Plant Disease\\fruit-dataset\\fruit-dataset\\train\",target_size=(128,128), batch_size=32, class_mode='categorical')\n",
    "x_test=test_datagen.flow_from_directory(r\"C:\\Users\\lenovo\\Desktop\\build-a-thon-project\\Dataset Plant Disease\\fruit-dataset\\fruit-dataset\\test\",target_size=(128,128), batch_size=32, class_mode='categorical')"
   ]
  },
  {
   "cell_type": "markdown",
   "id": "0a70c527",
   "metadata": {},
   "source": [
    "# data model"
   ]
  },
  {
   "cell_type": "code",
   "execution_count": 24,
   "id": "103b6406",
   "metadata": {},
   "outputs": [],
   "source": [
    "model=Sequential()"
   ]
  },
  {
   "cell_type": "code",
   "execution_count": 25,
   "id": "84535400",
   "metadata": {},
   "outputs": [],
   "source": [
    "model.add(Convolution2D(32,(3,3), input_shape=(128,128,3),activation='relu'))\n",
    "model.add(MaxPooling2D(pool_size=(2,2)))\n",
    "model.add(Flatten())       \n",
    "\n"
   ]
  },
  {
   "cell_type": "code",
   "execution_count": 26,
   "id": "7f9bdd29",
   "metadata": {},
   "outputs": [],
   "source": [
    "model.add(Dense(units=160,activation='relu'))\n",
    "model.add(Dense(units=90,activation='relu'))\n",
    "model.add(Dense(units=60,activation='relu'))\n",
    "model.add(Dense(units=6,activation='softmax'))"
   ]
  },
  {
   "cell_type": "code",
   "execution_count": 27,
   "id": "c92e1b43",
   "metadata": {},
   "outputs": [
    {
     "name": "stdout",
     "output_type": "stream",
     "text": [
      "Model: \"sequential_2\"\n",
      "_________________________________________________________________\n",
      " Layer (type)                Output Shape              Param #   \n",
      "=================================================================\n",
      " conv2d_2 (Conv2D)           (None, 126, 126, 32)      896       \n",
      "                                                                 \n",
      " max_pooling2d_2 (MaxPooling  (None, 63, 63, 32)       0         \n",
      " 2D)                                                             \n",
      "                                                                 \n",
      " flatten_2 (Flatten)         (None, 127008)            0         \n",
      "                                                                 \n",
      " dense_8 (Dense)             (None, 160)               20321440  \n",
      "                                                                 \n",
      " dense_9 (Dense)             (None, 90)                14490     \n",
      "                                                                 \n",
      " dense_10 (Dense)            (None, 60)                5460      \n",
      "                                                                 \n",
      " dense_11 (Dense)            (None, 6)                 366       \n",
      "                                                                 \n",
      "=================================================================\n",
      "Total params: 20,342,652\n",
      "Trainable params: 20,342,652\n",
      "Non-trainable params: 0\n",
      "_________________________________________________________________\n"
     ]
    }
   ],
   "source": [
    "model.summary()"
   ]
  },
  {
   "cell_type": "code",
   "execution_count": 28,
   "id": "106c391e",
   "metadata": {},
   "outputs": [
    {
     "name": "stderr",
     "output_type": "stream",
     "text": [
      "C:\\Users\\lenovo\\AppData\\Local\\Temp\\ipykernel_11732\\2838246034.py:2: UserWarning: `Model.fit_generator` is deprecated and will be removed in a future version. Please use `Model.fit`, which supports generators.\n",
      "  model.fit_generator(x_train, steps_per_epoch=168,epochs=20,validation_data=x_test,validation_steps=52)\n"
     ]
    },
    {
     "name": "stdout",
     "output_type": "stream",
     "text": [
      "Epoch 1/20\n",
      "168/168 [==============================] - 325s 2s/step - loss: 0.7194 - accuracy: 0.7607 - val_loss: 0.2557 - val_accuracy: 0.9032\n",
      "Epoch 2/20\n",
      "168/168 [==============================] - 214s 1s/step - loss: 0.2775 - accuracy: 0.9094 - val_loss: 0.1815 - val_accuracy: 0.9453\n",
      "Epoch 3/20\n",
      "168/168 [==============================] - 233s 1s/step - loss: 0.2292 - accuracy: 0.9230 - val_loss: 0.1923 - val_accuracy: 0.9399\n",
      "Epoch 4/20\n",
      "168/168 [==============================] - 241s 1s/step - loss: 0.1700 - accuracy: 0.9383 - val_loss: 0.1504 - val_accuracy: 0.9435\n",
      "Epoch 5/20\n",
      "168/168 [==============================] - 266s 2s/step - loss: 0.1360 - accuracy: 0.9525 - val_loss: 0.1498 - val_accuracy: 0.9423\n",
      "Epoch 6/20\n",
      "168/168 [==============================] - 244s 1s/step - loss: 0.1474 - accuracy: 0.9488 - val_loss: 0.0944 - val_accuracy: 0.9669\n",
      "Epoch 7/20\n",
      "168/168 [==============================] - 249s 1s/step - loss: 0.1121 - accuracy: 0.9596 - val_loss: 0.1095 - val_accuracy: 0.9615\n",
      "Epoch 8/20\n",
      "168/168 [==============================] - 239s 1s/step - loss: 0.1231 - accuracy: 0.9565 - val_loss: 0.1257 - val_accuracy: 0.9609\n",
      "Epoch 9/20\n",
      "168/168 [==============================] - 269s 2s/step - loss: 0.1056 - accuracy: 0.9611 - val_loss: 0.0892 - val_accuracy: 0.9700\n",
      "Epoch 10/20\n",
      "168/168 [==============================] - 249s 1s/step - loss: 0.0820 - accuracy: 0.9714 - val_loss: 0.2560 - val_accuracy: 0.9189\n",
      "Epoch 11/20\n",
      "168/168 [==============================] - 229s 1s/step - loss: 0.0831 - accuracy: 0.9732 - val_loss: 0.3533 - val_accuracy: 0.9020\n",
      "Epoch 12/20\n",
      "168/168 [==============================] - 253s 2s/step - loss: 0.0985 - accuracy: 0.9675 - val_loss: 0.0988 - val_accuracy: 0.9681\n",
      "Epoch 13/20\n",
      "168/168 [==============================] - 240s 1s/step - loss: 0.0753 - accuracy: 0.9738 - val_loss: 0.1240 - val_accuracy: 0.9567\n",
      "Epoch 14/20\n",
      "168/168 [==============================] - 7882s 47s/step - loss: 0.0865 - accuracy: 0.9718 - val_loss: 0.1120 - val_accuracy: 0.9615\n",
      "Epoch 15/20\n",
      "168/168 [==============================] - 240s 1s/step - loss: 0.0844 - accuracy: 0.9714 - val_loss: 0.0832 - val_accuracy: 0.9724\n",
      "Epoch 16/20\n",
      "168/168 [==============================] - 243s 1s/step - loss: 0.0462 - accuracy: 0.9839 - val_loss: 0.1204 - val_accuracy: 0.9651\n",
      "Epoch 17/20\n",
      "168/168 [==============================] - 225s 1s/step - loss: 0.0572 - accuracy: 0.9793 - val_loss: 0.1432 - val_accuracy: 0.9567\n",
      "Epoch 18/20\n",
      "168/168 [==============================] - 247s 1s/step - loss: 0.0434 - accuracy: 0.9837 - val_loss: 0.0828 - val_accuracy: 0.9772\n",
      "Epoch 19/20\n",
      "168/168 [==============================] - 268s 2s/step - loss: 0.0710 - accuracy: 0.9781 - val_loss: 0.0885 - val_accuracy: 0.9706\n",
      "Epoch 20/20\n",
      "168/168 [==============================] - 243s 1s/step - loss: 0.0443 - accuracy: 0.9837 - val_loss: 0.1724 - val_accuracy: 0.9495\n"
     ]
    },
    {
     "data": {
      "text/plain": [
       "<keras.callbacks.History at 0x1c0ba61f3a0>"
      ]
     },
     "execution_count": 28,
     "metadata": {},
     "output_type": "execute_result"
    }
   ],
   "source": [
    "model.compile(loss='categorical_crossentropy',optimizer=\"adam\",metrics=[\"accuracy\"])\n",
    "model.fit_generator(x_train, steps_per_epoch=168,epochs=20,validation_data=x_test,validation_steps=52)"
   ]
  },
  {
   "cell_type": "code",
   "execution_count": 29,
   "id": "9af5a954",
   "metadata": {},
   "outputs": [],
   "source": [
    "model.save(\"fruit.h5\")"
   ]
  },
  {
   "cell_type": "code",
   "execution_count": null,
   "id": "7312970c",
   "metadata": {},
   "outputs": [],
   "source": []
  }
 ],
 "metadata": {
  "kernelspec": {
   "display_name": "Python 3 (ipykernel)",
   "language": "python",
   "name": "python3"
  },
  "language_info": {
   "codemirror_mode": {
    "name": "ipython",
    "version": 3
   },
   "file_extension": ".py",
   "mimetype": "text/x-python",
   "name": "python",
   "nbconvert_exporter": "python",
   "pygments_lexer": "ipython3",
   "version": "3.9.12"
  }
 },
 "nbformat": 4,
 "nbformat_minor": 5
}
